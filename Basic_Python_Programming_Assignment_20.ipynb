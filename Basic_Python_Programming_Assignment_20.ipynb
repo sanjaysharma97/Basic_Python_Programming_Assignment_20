{
 "cells": [
  {
   "cell_type": "markdown",
   "id": "985fbabf",
   "metadata": {},
   "source": [
    "# Question1 Create a function that takes a list of strings and integers, and filters out the list so that it returns a list of integers only.\n",
    "Examples\n",
    "filter_list([1, 2, 3, \"a\", \"b\", 4]) ➞ [1, 2, 3, 4]\n",
    "filter_list([\"A\", 0, 'Edabit\", 1729, \"Python\", \"1729\"]) ➞ [0, 1729]\n",
    "filter_list([\"Nothing\", \"here\"]) ➞ []\n",
    "\n",
    "ANSWER-"
   ]
  },
  {
   "cell_type": "code",
   "execution_count": 4,
   "id": "7be1bbd8",
   "metadata": {},
   "outputs": [
    {
     "name": "stdout",
     "output_type": "stream",
     "text": [
      "Output -> [1, 2, 3, 4]\n",
      "Output -> [0, 1729]\n",
      "Output -> []\n"
     ]
    }
   ],
   "source": [
    "def filter_list(in_list):\n",
    "    out_list=[]\n",
    "    for i in in_list:\n",
    "        if type(i)==int:\n",
    "            out_list.append(i)\n",
    "    print(f'Output -> {out_list}')\n",
    "filter_list(([1, 2, 3, \"a\", \"b\", 4]))\n",
    "filter_list(([\"A\", 0, \"Edabit\", 1729, \"Python\", \"1729\"]))\n",
    "filter_list(([\"Nothing\", \"here\"]))\n",
    "    "
   ]
  },
  {
   "cell_type": "markdown",
   "id": "92c5e23d",
   "metadata": {},
   "source": [
    "# Question2 Given a list of numbers, create a function which returns the list but with each element's index in the list added to itself. This means you add 0 to the number at index 0, add 1 to the number at index 1, etc...\n",
    "Examples\n",
    "add_indexes([0, 0, 0, 0, 0]) ➞ [0, 1, 2, 3, 4]\n",
    "add_indexes([1, 2, 3, 4, 5]) ➞ [1, 3, 5, 7, 9]\n",
    "add_indexes([5, 4, 3, 2, 1]) ➞ [5, 5, 5, 5, 5] \n",
    "\n",
    "ANSWER-"
   ]
  },
  {
   "cell_type": "code",
   "execution_count": 2,
   "id": "5d22e04a",
   "metadata": {},
   "outputs": [
    {
     "name": "stdout",
     "output_type": "stream",
     "text": [
      "Enter a list of numbers separated by spaces: 0 0 0 0\n"
     ]
    },
    {
     "data": {
      "text/plain": [
       "[0, 1, 2, 3]"
      ]
     },
     "execution_count": 2,
     "metadata": {},
     "output_type": "execute_result"
    }
   ],
   "source": [
    "def add_indexes():\n",
    "    lst = input(\"Enter a list of numbers separated by spaces: \")\n",
    "    lst = lst.split()\n",
    "    lst = [int(x) for x in lst]\n",
    "    return [i+val for i, val in enumerate(lst)]\n",
    "add_indexes()"
   ]
  },
  {
   "cell_type": "code",
   "execution_count": 3,
   "id": "18c32fef",
   "metadata": {},
   "outputs": [
    {
     "name": "stdout",
     "output_type": "stream",
     "text": [
      "Enter a list of numbers separated by spaces: 1 2 3 4 5\n"
     ]
    },
    {
     "data": {
      "text/plain": [
       "[1, 3, 5, 7, 9]"
      ]
     },
     "execution_count": 3,
     "metadata": {},
     "output_type": "execute_result"
    }
   ],
   "source": [
    "add_indexes()"
   ]
  },
  {
   "cell_type": "code",
   "execution_count": 4,
   "id": "341394d6",
   "metadata": {},
   "outputs": [
    {
     "name": "stdout",
     "output_type": "stream",
     "text": [
      "Enter a list of numbers separated by spaces: 5 4 3 2 1\n"
     ]
    },
    {
     "data": {
      "text/plain": [
       "[5, 5, 5, 5, 5]"
      ]
     },
     "execution_count": 4,
     "metadata": {},
     "output_type": "execute_result"
    }
   ],
   "source": [
    "add_indexes()"
   ]
  },
  {
   "cell_type": "markdown",
   "id": "8e7cc274",
   "metadata": {},
   "source": [
    "# Question3 Create a function that takes the height and radius of a cone as arguments and returns the volume of the cone rounded to the nearest hundredth. See the resources tab for the formula.\n",
    "\n",
    "Examples\n",
    "cone_volume(3, 2) ➞ 12.57\n",
    "\n",
    "cone_volume(15, 6) ➞ 565.49\n",
    "cone_volume(18, 0) ➞ 0\n",
    "\n",
    "ANSWER-"
   ]
  },
  {
   "cell_type": "code",
   "execution_count": 6,
   "id": "3b02317c",
   "metadata": {},
   "outputs": [
    {
     "name": "stdout",
     "output_type": "stream",
     "text": [
      "Output ➞ 12.57\n",
      "Output ➞ 565.49\n",
      "Output ➞ 0.00\n"
     ]
    }
   ],
   "source": [
    "import math\n",
    "def cube_volume(height, radius):\n",
    "    output = ((math.pi)*pow(radius,2))*(height/3)\n",
    "    print(f'Output ➞ {output:.2f}')\n",
    "\n",
    "cube_volume(3,2) \n",
    "cube_volume(15,6)    \n",
    "cube_volume(18,0)   "
   ]
  },
  {
   "cell_type": "markdown",
   "id": "01a8384a",
   "metadata": {},
   "source": [
    "# Question4 This Triangular Number Sequence is generated from a pattern of dots that form a triangle.\n",
    "The first 5 numbers of the sequence, or dots, are:\n",
    "1, 3, 6, 10, 15\n",
    "This means that the first triangle has just one dot, the second one has three dots, the third one\n",
    "has 6 dots and so on.\n",
    "Write a function that gives the number of dots with its corresponding triangle number of the\n",
    "sequence.\n",
    "Examples\n",
    "triangle(1) ➞ 1\n",
    "triangle(6) ➞ 21\n",
    "triangle(215) ➞ 23220\n",
    "\n",
    "ANSWER-"
   ]
  },
  {
   "cell_type": "code",
   "execution_count": 7,
   "id": "dfbf12d8",
   "metadata": {},
   "outputs": [
    {
     "name": "stdout",
     "output_type": "stream",
     "text": [
      "enter number 1\n",
      "output -> 1.0\n",
      "enter number 6\n",
      "output -> 21.0\n",
      "enter number 215\n",
      "output -> 23220.0\n",
      "enter number 50\n",
      "output -> 1275.0\n"
     ]
    }
   ],
   "source": [
    "def triangle(in_num):\n",
    "    print(f'output -> {int(in_num)*((in_num+1)/2)}')\n",
    "    \n",
    "for i in range(4):\n",
    "    n=int(input(\"enter number \"))\n",
    "    triangle(n)"
   ]
  },
  {
   "cell_type": "markdown",
   "id": "faa6118c",
   "metadata": {},
   "source": [
    "# Question5 Create a function that takes a list of numbers between 1 and 10 (excluding one number) and returns the missing number.\n",
    "Examples\n",
    "missing_num([1, 2, 3, 4, 6, 7, 8, 9, 10]) ➞ 5\n",
    "missing_num([7, 2, 3, 6, 5, 9, 1, 4, 8]) ➞ 10\n",
    "missing_num([10, 5, 1, 2, 4, 6, 8, 3, 9]) ➞ 7\n",
    "\n",
    "ANSWER-"
   ]
  },
  {
   "cell_type": "code",
   "execution_count": 19,
   "id": "ddd26e52",
   "metadata": {},
   "outputs": [
    {
     "name": "stdout",
     "output_type": "stream",
     "text": [
      "[1, 2, 3, 4, 6, 7, 8, 9, 10] -> 5\n",
      "[7, 2, 3, 6, 5, 1, 9, 4, 8] -> 10\n",
      "[10, 5, 1, 2, 4, 6, 8, 3, 9] -> 7\n"
     ]
    }
   ],
   "source": [
    "def missing_num(in_list):\n",
    "    for i in range(1,11):\n",
    "        if i not in in_list:\n",
    "            print(f'{in_list} -> {i}')\n",
    "\n",
    "missing_num([1,2,3,4,6,7,8,9,10])\n",
    "missing_num([7,2,3,6,5,1,9,4,8])\n",
    "missing_num([10,5,1,2,4,6,8,3,9])"
   ]
  },
  {
   "cell_type": "code",
   "execution_count": null,
   "id": "698e7f25",
   "metadata": {},
   "outputs": [],
   "source": []
  }
 ],
 "metadata": {
  "kernelspec": {
   "display_name": "Python 3 (ipykernel)",
   "language": "python",
   "name": "python3"
  },
  "language_info": {
   "codemirror_mode": {
    "name": "ipython",
    "version": 3
   },
   "file_extension": ".py",
   "mimetype": "text/x-python",
   "name": "python",
   "nbconvert_exporter": "python",
   "pygments_lexer": "ipython3",
   "version": "3.9.12"
  }
 },
 "nbformat": 4,
 "nbformat_minor": 5
}
